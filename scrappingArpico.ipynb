{
  "nbformat": 4,
  "nbformat_minor": 0,
  "metadata": {
    "colab": {
      "name": "scrappingArpico.ipynb",
      "provenance": [],
      "collapsed_sections": [],
      "toc_visible": true,
      "authorship_tag": "ABX9TyONUoI7sRJESU0vGO67BZV+",
      "include_colab_link": true
    },
    "kernelspec": {
      "name": "python3",
      "display_name": "Python 3"
    }
  },
  "cells": [
    {
      "cell_type": "markdown",
      "metadata": {
        "id": "view-in-github",
        "colab_type": "text"
      },
      "source": [
        "<a href=\"https://colab.research.google.com/github/tharikrizan/ScrapingArpicoLocations/blob/master/scrappingArpico.ipynb\" target=\"_parent\"><img src=\"https://colab.research.google.com/assets/colab-badge.svg\" alt=\"Open In Colab\"/></a>"
      ]
    },
    {
      "cell_type": "code",
      "metadata": {
        "id": "r8joxfzbRjxL",
        "outputId": "280cf7b4-4ebf-402a-d522-218dbe476e11",
        "colab": {
          "base_uri": "https://localhost:8080/",
          "height": 54
        }
      },
      "source": [
        "import bs4\n",
        "from urllib.request import urlopen as uReq\n",
        "from bs4 import BeautifulSoup as soup\n",
        "\n",
        "# name the output file to write to local disk\n",
        "out_filename = \"arpico_locations.csv\"\n",
        "# header of csv file to be written\n",
        "headers = \"Location Name , Address , Contact Number , Fax /n\"\n",
        "\n",
        "# opens file, and writes headers\n",
        "f = open(out_filename, \"w\")\n",
        "f.write(headers)\n",
        "\n",
        "my_url = 'https://www.arpico.com/contents/our_expertise_retail.php#.X5fte4gzZPa'\n",
        "\n",
        "\n",
        "uClient = uReq(my_url)\n",
        "page_html = uClient.read()\n",
        "uClient.close()\n",
        "page_soup = soup(page_html, \"html.parser\")\n",
        "location_tables = page_soup.find_all(\"table\")\n",
        "locationData = []\n",
        "for location_table in location_tables:\n",
        "  for location in location_table.find_all(\"tr\" , class_='tr_con_info'):\n",
        "    locationSinglePlace = []\n",
        "    for locationDetails in location.find_all(\"td\"):\n",
        "      locationSinglePlace.append(locationDetails.text.strip())\n",
        "    locationData.append(locationSinglePlace)\n",
        "\n",
        "print(locationData)\n",
        "# for data in locationData:\n",
        "#   for dataSingle in data:\n",
        "#     #print(dataSingle)\n",
        "#     f.write(str(dataSingle.replace(\",\",\"\"))+\" , \")\n",
        "#   f.write(\"/n\")\n",
        "\n",
        "\n",
        "\n"
      ],
      "execution_count": null,
      "outputs": [
        {
          "output_type": "stream",
          "text": [
            "[['BATTARAMULLA', '120, Kaduwela Rd, Battaramulla', '114412630 / 114411543', '114411948'], ['DEHIWALA', '147, Galle Road, Dehiwala', '114206011 / 114206012 / 114206013', '114206009'], ['Hyde Park Corner', '69, Hyde Park Corner, Colombo - 02', '011-2683946 / 011-2683949   /  Furniture 4375796 / INTERIOR 112699625', '112695617'], ['NAVINNA', '310, High Level Road, Navinna, Maharagama', '0112801946 / 0114321168', '114541780'], ['GAMPAHA', '17, Yakkala Rd, Gampaha', '0334672571-3', '334672574'], ['KANDY', '679, Peradeniya Rd, Kandy', 'Stores 814944690 / General 812223150 / Liquor 812228530 / Furniture  814476247', '0812228529'], ['NEGOMBO', '153, St josephs Street, Negombo', '314874708-9 / 317500750', '314874710'], ['WATTALA', '155, Old Negombo Rd, Wattala', '114641795 / 114641920 /1144641732/1146441731', '115554096'], ['KADAWATHA', '172/6, Kandy Rd, Kadawatha', '114643614-7', '114643658'], ['KIRIBATHGODA', '123, Kandy Rd, Dalugama, Kelaniya', '114818280 / 114817445', '112916348'], ['WELLAWATTA', '338, Galle Rd, Colombo - 06', '114527494 / 114518844', '114515170'], ['BORALESGAMUWA', '26/28, Maharagama Rd, Boralesgamuwa', '114899854 -114899855', '114209136'], ['KALUTARA', '157, Galle Rd, Kautara North, Kautara', '344940037-9', '342224099'], ['PILIYANDALA', '305/1, Horana Road, Miriswatta, Piliyandala', '114342870-2', '112608719'], ['MATARA', '584, Anagarika Dharmapala Mw, Walgama, Matara', '412237001-2', '412237020'], ['PANADURA', '542, Galle Road, Panadura', '382245813 / 809', '382245810'], ['KOTTAWA', '296 High level Road, Makubura', '0115925100 / 112172404', '112172405'], ['RAGAMA', '51, Kadawatha Road, Ragama', '112959471 / 112959476'], ['MAGGONA', '471, Lorintan Place, Galle Road, Maggona', '342278337 / 342278338'], ['BANDARAGAMA', '15, Thanayamwatta, Bandaragama', '038 2288230'], ['GELIOYA', '53, Kandy Road, Gelioya', '0812 311422 / 0814 949671'], ['HALLOLUWA', '300 B/1, Warathenna, Halloluwa', '0812 387865 / 0814 940670'], ['KIRIBATHKUMBURA', '431, Colombo Road, Kiribathkumbura', '0812 386566 / 0814 949674'], ['KADUWELA', 'No.654, Awissawella Road, Kaduwela', '112538147'], ['JA-ELA', 'No.245, Colombo Road, Ja -Ela', '112226304'], ['ATHURIGIRIYA', 'No.70, Malabe Road, Athurugiriya', '112074053'], ['WELIWERIYA', 'No.386, New kandy Road, Weliweriya', '332259381'], ['ARAWWALA', 'No.565, Arawwala, Pannipitiya', '112160244 / 011 2160243'], ['MEEGODA', 'No.510/F2, Highlevel Road, Waduhena, Meegoda', '112750086'], ['HANWELLA', 'No.273, Vidyala MW, Hanwella', '115404568'], ['AMBALANGODA', 'No.12, Galle Road, Ambalangoda', '915560050'], ['ATHTHIDIYA', 'No.144, Aththidiya Road, Dehiwala', ''], ['KANDANA', 'No.88, Negambo Road, Kandana', '5518213'], ['KULIYAPITIYA', 'Godayaya Estate, Ambowa, Kouliyapitiya', '372281918'], ['WENNAPUWA', 'No.1/56, Chilaw Road, Wennapuwa', '312262714 / 774280176'], ['INGIRIYA', 'No.96, Bandaranayaka MW, Ingiriya', '034 5620913'], ['Mulleriyawa', 'No.348/A/3, Hibutana, Mulleriyawa, New Town', '115447637'], ['Akkarapaththu', 'No.487, Main Street, Akkarapattuwa.', '067-2279701'], ['Athurugiriya', 'No.1/1E, Main Streer, Pore, Athurugiriya.', '011-4444498'], ['Badulla', 'No.195, Lower Street, Badulla.', '055-4499555'], ['Bandarawela', 'No.106, Main street, Bandarawela', '057-4496150'], ['Dambulla', 'No.651, Anuradhapura Rd,Dambulla.', '066-4928586'], ['Galle', 'No.28,Matara Road, Galle.', '091-4384233'], ['Gallewela', 'No.240, Kurunegala Rd,Galewela.', '066-2287766'], ['Hingurakgoda', 'No.03, Air Port Road, Hingurakgoda.', '027-4924777'], ['Horana', 'No.103, Panadura Road, Horana.', '034-4283779'], ['Kaduwela', 'No.497/E/1, Avissawella Road, Kaduwela', '011-4542215'], ['Kaththankudi', 'NO.456, Main Street, Kaththnkudi', '065-2248784'], ['Kalutara', 'No.256, Main Street, Kalutara', '034-4280485'], ['Kandana', 'No.89, Negombo Rd, Kandana', '011-4833541'], ['Kotahena', 'No.219,George De Silva Mw, Kotahena', '011-4610571'], ['Kottawa', 'No.129/8, High level Rd, Kottawa, Pannipitiya', '011-4213300'], ['Kurunegala', 'No.245/E,Negombo Rd, Kurunegala.', '037-4692506'], ['Matara', 'No.115, Anagarika Dharmapala Mw, Matara', '041-4390657'], ['Matale', 'No.553/A, Main Street, Matale', '066-4929815'], ['Moratuwa', 'No725/1, Idama, Galle Road, Moratuwa.', '011-4216154'], ['Narahenpita', 'No.169,Nawala rd, Narahenpita', '011-4527078'], ['Nawalapitiya', 'No.11B,Gampola Road, Back Lane, Nawalapitiya.', '054-4922777'], ['Nittambuwa', 'No.160, Kandy Road, Nittambuwa', '033-2294968'], ['Nugegoda', 'No.53,Stanley Thilakarathne Mw, Nugegoda.', '011-4542218'], ['Nuwara Eliya', 'Favourite Building, Bell Bazar, Nuwara Eliya.', '052-4490183'], ['Panadura', 'No.163/1, Galle Rd, Panadura', '038-4281212'], ['Pettah', 'No.92/A, Main Street, Colombo 11', '011-4627477'], ['Pottuvil', 'Main Street, Pottuvil', '063-4925765'], ['Rathnapura', 'No.05, Senanayaka Mw, Rathnapura', '045-4360691'], ['Wellawaya', 'No.145, Thissa Rd, Wellawaya.', '']]\n"
          ],
          "name": "stdout"
        }
      ]
    }
  ]
}